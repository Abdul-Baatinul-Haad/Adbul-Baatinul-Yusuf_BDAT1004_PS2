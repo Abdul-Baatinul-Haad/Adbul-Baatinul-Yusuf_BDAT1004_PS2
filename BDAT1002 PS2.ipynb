{
 "cells": [
  {
   "cell_type": "code",
   "execution_count": 2,
   "id": "877ca05c",
   "metadata": {},
   "outputs": [
    {
     "name": "stdout",
     "output_type": "stream",
     "text": [
      "6\n"
     ]
    }
   ],
   "source": [
    "#Question 1\n",
    "#the value displayed is 6, this is because of the use of the 'global' method which uses the value of 'a' outside the function\n",
    "#b(). hence, any changes that occurs in b, affects the original value stored in 'a'\n",
    "def b():\n",
    "    global a\n",
    "    a= c(a)\n",
    "\n",
    "def c(a):\n",
    "    return a+2\n",
    "a=0\n",
    "b()\n",
    "b()\n",
    "b()\n",
    "print(a)\n"
   ]
  },
  {
   "cell_type": "code",
   "execution_count": 4,
   "id": "031663de",
   "metadata": {},
   "outputs": [
    {
     "name": "stdout",
     "output_type": "stream",
     "text": [
      "123\n",
      "File length calculated succesfully\n",
      "File fisls not found\n"
     ]
    }
   ],
   "source": [
    "#Question 2\n",
    "def file_length(file_name):\n",
    "    try:\n",
    "        file = open(file_name)\n",
    "        contents = file.read()\n",
    "        file.close()\n",
    "        print(len(contents))\n",
    "    except FileNotFoundError:\n",
    "        print(\"File \" + file_name + \" not found\")\n",
    "\n",
    "    else: \n",
    "        print(\"File length calculated succesfully\")\n",
    "\n",
    "file_length('FileLength.txt')\n",
    "file_length('fisls')"
   ]
  },
  {
   "cell_type": "code",
   "execution_count": 5,
   "id": "0585c126",
   "metadata": {},
   "outputs": [
    {
     "name": "stdout",
     "output_type": "stream",
     "text": [
      "['doll', 'firetruck', 'kitten']\n",
      "I am a kangaroo located at coordinates 0,0\n",
      "['doll', 'firetruck', 'kitten', 'doll', 'firetruck', 'kitten']\n",
      "I am a kangaroo located at coordinates 3,0\n"
     ]
    }
   ],
   "source": [
    "#Question 3\n",
    "from re import A\n",
    "\n",
    "\n",
    "class marsupial:\n",
    "    mylist = []\n",
    "    \n",
    "    def __init__(self) -> None:\n",
    "        pass\n",
    "\n",
    "    def put_in_pouch(self, item):\n",
    "       self.mylist.append(item)\n",
    "    \n",
    "    def pouch_contents(self):\n",
    "        print(marsupial.mylist)\n",
    "    \n",
    "    def get(self):\n",
    "        return(self.x,self.y)\n",
    "\n",
    "class kangaroo(marsupial):\n",
    "    x=0\n",
    "    y=0\n",
    "    def __init__(self, x,y):\n",
    "        self.x = x\n",
    "        self.y = y\n",
    "        \n",
    "    \n",
    "    def jump(self, dx,dy):\n",
    "        self.x+=dx\n",
    "        self.y+=dy\n",
    "\n",
    "    def __str__(self):\n",
    "        return 'I am a kangaroo located at coordinates {},{}'.format(self.x,self.y)\n",
    "\n",
    "m = marsupial()\n",
    "m.put_in_pouch('doll')\n",
    "m.put_in_pouch('firetruck')\n",
    "m.put_in_pouch('kitten')\n",
    "m.pouch_contents()\n",
    "\n",
    "k = kangaroo(0,0)\n",
    "print(k)\n",
    "k.put_in_pouch('doll')\n",
    "k.put_in_pouch('firetruck')\n",
    "k.put_in_pouch('kitten')\n",
    "k.pouch_contents()\n",
    "\n",
    "k.jump(1,0)\n",
    "k.jump(1,0)\n",
    "k.jump(1,0)\n",
    "print(k)"
   ]
  },
  {
   "cell_type": "code",
   "execution_count": 6,
   "id": "6bb94b29",
   "metadata": {},
   "outputs": [
    {
     "name": "stdout",
     "output_type": "stream",
     "text": [
      "1\n",
      "10\n",
      "5\n",
      "16\n",
      "8\n",
      "4\n",
      "2\n",
      "1\n"
     ]
    }
   ],
   "source": [
    "#Question 4\n",
    "def collatz(x):\n",
    "    \n",
    "    if(x==1):\n",
    "        print(x)\n",
    "    \n",
    "    elif(x%2==0):\n",
    "        print(x)\n",
    "        collatz(x//2)\n",
    "    else:\n",
    "        print(x)\n",
    "        collatz((3*x+1))\n",
    "\n",
    "collatz(1)\n",
    "collatz(10)"
   ]
  },
  {
   "cell_type": "code",
   "execution_count": 16,
   "id": "593924a0",
   "metadata": {},
   "outputs": [
    {
     "name": "stdout",
     "output_type": "stream",
     "text": [
      "1001"
     ]
    }
   ],
   "source": [
    "#Question 5\n",
    "def binary(x):\n",
    "    \n",
    "    if (x==0 or x==1):\n",
    "        print(x, end=\"\")\n",
    "    else:\n",
    "        binary(x//2)\n",
    "        print(x%2, end=\"\")\n",
    "    \n",
    "binary(9)"
   ]
  },
  {
   "cell_type": "code",
   "execution_count": 17,
   "id": "1994bb1b",
   "metadata": {},
   "outputs": [
    {
     "name": "stdout",
     "output_type": "stream",
     "text": [
      "W3C Mission\n",
      "\n",
      "    Principles\n",
      "    \n",
      "    \n"
     ]
    }
   ],
   "source": [
    "#Question 6\n",
    "from ast import Break\n",
    "from html.parser import HTMLParser\n",
    "\n",
    "class HeadingParser(HTMLParser):\n",
    "    tag = \"\"\n",
    "    ident = '   '\n",
    "    data=\"\"\n",
    "    def __init__(self):\n",
    "\n",
    "        super().__init__()\n",
    "        self.reset()\n",
    "\n",
    "    def handle_starttag(self, tag,data):\n",
    "        if tag == \"h1\":\n",
    "            self.tag = tag\n",
    "            # print(\"Start tag: \", tag)\n",
    "        elif tag == \"h2\":\n",
    "            self.tag=tag\n",
    " \n",
    "    def handle_data(self, data):\n",
    "        ident = self.ident\n",
    "        if self.tag == \"h1\" or self.tag == \"h2\" or self.tag == \"h3\":\n",
    "            if self.tag==\"h1\":\n",
    "                self.data=data\n",
    "                print(self.data.strip())\n",
    "            else:\n",
    "                self.data=data\n",
    "                print(ident,self.data.strip())\n",
    "        # elif self.tag == \"h2\":\n",
    "        #     self.data=data\n",
    "        #     print(self.ident,self.data)\n",
    "        # else:\n",
    "        #     self.data=data\n",
    "        #     self.data.rstrip()\n",
    "\n",
    "\n",
    "\n",
    "file = open(\"w3c_2.html\")\n",
    "content = file.read()\n",
    "file.close()\n",
    "hp = HeadingParser()\n",
    "hp.feed(content)"
   ]
  },
  {
   "cell_type": "code",
   "execution_count": 18,
   "id": "50e6fc82",
   "metadata": {},
   "outputs": [],
   "source": [
    "#Question 7\n"
   ]
  },
  {
   "cell_type": "code",
   "execution_count": null,
   "id": "89b11d01",
   "metadata": {},
   "outputs": [],
   "source": [
    "#Question 8\n",
    "Select Temperature(C) from table;\n",
    "select distinct city from table;\n",
    "select * from table where country = india;\n",
    "select * from table where season = fall;\n",
    "select city, country, season from table where rainfall(mm)>200 AND rainfall(mm)<400;\n",
    "select city, country from table where season=fall AND AVG(temperature(C))>20 order by temperature(C) ASC;\n",
    "select sum(rainfall(mm)) from table where city = cairo;\n",
    "select distinct season from table order by sum(rainfall(mm))\n"
   ]
  },
  {
   "cell_type": "code",
   "execution_count": 19,
   "id": "17a2bd47",
   "metadata": {},
   "outputs": [
    {
     "name": "stdout",
     "output_type": "stream",
     "text": [
      "['THE', 'QUICK', 'BROWN', 'FOX', 'JUMPS', 'OVER', 'THE', 'LAZY', 'DOG']\n",
      "['the', 'quick', 'brown', 'fox', 'jumps', 'over', 'the', 'lazy', 'dog']\n",
      "[3, 5, 5, 3, 5, 4, 3, 4, 3]\n",
      "[['THE', 'the', 3], ['QUICK', 'quick', 5], ['BROWN', 'brown', 5], ['FOX', 'fox', 3], ['JUMPS', 'jumps', 5], ['OVER', 'over', 4], ['THE', 'the', 3], ['LAZY', 'lazy', 4], ['DOG', 'dog', 3]]\n",
      "['quick', 'brown', 'jumps', 'over', 'lazy']\n"
     ]
    }
   ],
   "source": [
    "#Question 9\n",
    "words = ['The', 'quick', 'brown', 'fox', 'jumps', 'over', 'the', 'lazy', 'dog']\n",
    "\n",
    "words1 = [line.upper() for line in words]\n",
    "print(words1)\n",
    "\n",
    "words2 = [line.lower() for line in words]\n",
    "print(words2)\n",
    "\n",
    "words3 = [len(line) for line in words]\n",
    "print(words3)\n",
    "\n",
    "words4 = [[line.upper(), line.lower(), len(line)] for line in words]\n",
    "print(words4)\n",
    "\n",
    "words5 = [line for line in words if len(line)>=4]\n",
    "print(words5)"
   ]
  },
  {
   "cell_type": "code",
   "execution_count": null,
   "id": "7c51e9c5",
   "metadata": {},
   "outputs": [],
   "source": []
  }
 ],
 "metadata": {
  "kernelspec": {
   "display_name": "Python 3 (ipykernel)",
   "language": "python",
   "name": "python3"
  },
  "language_info": {
   "codemirror_mode": {
    "name": "ipython",
    "version": 3
   },
   "file_extension": ".py",
   "mimetype": "text/x-python",
   "name": "python",
   "nbconvert_exporter": "python",
   "pygments_lexer": "ipython3",
   "version": "3.9.7"
  }
 },
 "nbformat": 4,
 "nbformat_minor": 5
}
